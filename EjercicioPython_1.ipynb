{
  "nbformat": 4,
  "nbformat_minor": 0,
  "metadata": {
    "colab": {
      "provenance": [],
      "authorship_tag": "ABX9TyP7D3srzF2poRgm+fHZL6U8",
      "include_colab_link": true
    },
    "kernelspec": {
      "name": "python3",
      "display_name": "Python 3"
    },
    "language_info": {
      "name": "python"
    }
  },
  "cells": [
    {
      "cell_type": "markdown",
      "metadata": {
        "id": "view-in-github",
        "colab_type": "text"
      },
      "source": [
        "<a href=\"https://colab.research.google.com/github/JuanCharly1/IAyRN2024/blob/main/Untitled1.ipynb\" target=\"_parent\"><img src=\"https://colab.research.google.com/assets/colab-badge.svg\" alt=\"Open In Colab\"/></a>"
      ]
    },
    {
      "cell_type": "markdown",
      "source": [
        "# Diseño de algoritmos en python\n",
        "#Juan Carlos García Reyes\n",
        "2000889\n",
        "    Martes N4\n",
        "\n",
        "\n"
      ],
      "metadata": {
        "id": "f-uZq5ENZmif"
      }
    },
    {
      "cell_type": "code",
      "execution_count": null,
      "metadata": {
        "colab": {
          "base_uri": "https://localhost:8080/"
        },
        "id": "cZVi7vIIcRGr",
        "outputId": "dde9405a-521d-43bd-be7e-818778f334d9"
      },
      "outputs": [
        {
          "output_type": "stream",
          "name": "stdout",
          "text": [
            "Hola! Introduzca su nombre por favor: Luis\n",
            "Hola luis!, ten un buen dia\n"
          ]
        }
      ],
      "source": [
        "#Ejercicio 1\n",
        "nombre = input(\"Hola! Introduzca su nombre por favor: \")\n",
        "nombre1 = nombre.lower()\n",
        "while True:\n",
        "    if nombre1 in [\"juan\", \"ana\", \"pedro\"]:\n",
        "        break\n",
        "    else:\n",
        "        print(\"Hola\", nombre1 + \"!, ten un buen dia\")\n",
        "        break"
      ]
    },
    {
      "cell_type": "code",
      "source": [
        "#Ejercicio 2\n",
        "Datos = []\n",
        "while len(Datos)<5:\n",
        "    dato = input(\"Mencione por favor sus 5 comidas favoritas: \")\n",
        "    Datos.append(dato)\n",
        "Datos.reverse()\n",
        "print(\"Tus comidas favoritas son\", Datos)"
      ],
      "metadata": {
        "colab": {
          "base_uri": "https://localhost:8080/"
        },
        "id": "ubvw8d4pcBKQ",
        "outputId": "4bbc9f5e-4d28-4d25-cc5f-36c02c6a9618"
      },
      "execution_count": null,
      "outputs": [
        {
          "output_type": "stream",
          "name": "stdout",
          "text": [
            "Mencione por favor sus 5 comidas favoritas: Hot Dog\n",
            "Mencione por favor sus 5 comidas favoritas: Hot Cakes\n",
            "Mencione por favor sus 5 comidas favoritas: Pizza\n",
            "Mencione por favor sus 5 comidas favoritas: Nieve\n",
            "Mencione por favor sus 5 comidas favoritas: Huevo\n",
            "Tus comidas favoritas son ['Huevo', 'Nieve', 'Pizza', 'Hot Cakes', 'Hot Dog']\n"
          ]
        }
      ]
    },
    {
      "cell_type": "code",
      "source": [
        "#Ejercicio 3\n",
        "def fibonacci(n):\n",
        "    serie = [0, 1]\n",
        "    for i in range(2, n):\n",
        "        serie.append(serie[-1] + serie[-2])\n",
        "    return serie\n",
        "\n",
        "numeros = int(input(\"Por favor introduzca la cantidad de números de la serie de fibonacci que desea generar: \"))\n",
        "serie = fibonacci(numeros)\n",
        "\n",
        "print(\"Los primeros\", numeros, \"números de la serie de Fibonacci son:\")\n",
        "for num in serie:\n",
        "    print(num)"
      ],
      "metadata": {
        "id": "mEwGXvDv4-Gr",
        "colab": {
          "base_uri": "https://localhost:8080/"
        },
        "outputId": "0452509f-dd88-444e-c6f4-b7bd2bb130cc"
      },
      "execution_count": 1,
      "outputs": [
        {
          "output_type": "stream",
          "name": "stdout",
          "text": [
            "Por favor introduzca la cantidad de números de la serie de fibonacci que desea generar: 10\n",
            "Los primeros 10 números de la serie de Fibonacci son:\n",
            "0\n",
            "1\n",
            "1\n",
            "2\n",
            "3\n",
            "5\n",
            "8\n",
            "13\n",
            "21\n",
            "34\n"
          ]
        }
      ]
    },
    {
      "cell_type": "code",
      "source": [
        "#Ejercicio 4\n",
        "import random as rand\n",
        "\n",
        "Numero = rand.randint(1, 100)\n",
        "\n",
        "while True:\n",
        "\n",
        "    Jugador = input(\"Elige un numero entre 1 y 100: \")\n",
        "    if Jugador.isdigit():\n",
        "        Jugador=int(Jugador)\n",
        "        if 1<= Jugador <= 100:\n",
        "            if Jugador == Numero:\n",
        "                print(\"¡Felicidades! Has adivinado el número\")\n",
        "                break\n",
        "\n",
        "            elif Jugador < Numero:\n",
        "                print(\"El número Seleccionado es menor al Generado, intente de nuevo por favor\")\n",
        "            else:\n",
        "                print(\"El número Seleccionado es mayor al Generado, intente de nuevo por favor\")\n",
        "        else:\n",
        "            print(\"Favor de seleccionar un número entre 1 y 100\")\n",
        "    else:\n",
        "        print(\"Favor de selecionar un número válido\")"
      ],
      "metadata": {
        "colab": {
          "base_uri": "https://localhost:8080/"
        },
        "id": "spzh7UBkcZwx",
        "outputId": "089c991f-56bc-45a7-a1a1-1540e1c24932"
      },
      "execution_count": 2,
      "outputs": [
        {
          "output_type": "stream",
          "name": "stdout",
          "text": [
            "Elige un numero entre 1 y 100: a\n",
            "Favor de selecionar un número válido\n",
            "Elige un numero entre 1 y 100: 120\n",
            "Favor de seleccionar un número entre 1 y 100\n",
            "Elige un numero entre 1 y 100: 50\n",
            "El número Seleccionado es mayor al Generado, intente de nuevo por favor\n",
            "Elige un numero entre 1 y 100: 20\n",
            "El número Seleccionado es menor al Generado, intente de nuevo por favor\n",
            "Elige un numero entre 1 y 100: 30\n",
            "El número Seleccionado es menor al Generado, intente de nuevo por favor\n",
            "Elige un numero entre 1 y 100: 40\n",
            "El número Seleccionado es menor al Generado, intente de nuevo por favor\n",
            "Elige un numero entre 1 y 100: 49\n",
            "El número Seleccionado es mayor al Generado, intente de nuevo por favor\n",
            "Elige un numero entre 1 y 100: 45\n",
            "El número Seleccionado es menor al Generado, intente de nuevo por favor\n",
            "Elige un numero entre 1 y 100: 47\n",
            "El número Seleccionado es mayor al Generado, intente de nuevo por favor\n",
            "Elige un numero entre 1 y 100: 46\n",
            "¡Felicidades! Has adivinado el número\n"
          ]
        }
      ]
    },
    {
      "cell_type": "code",
      "source": [
        "#Ejercicio 5\n",
        "def isprime(rango):\n",
        "    if rango <= 1:\n",
        "        return False\n",
        "    elif rango <=3:\n",
        "        return True\n",
        "    elif rango % 2 == 0 or rango % 3==0:\n",
        "        return False\n",
        "    i = 5\n",
        "    while i * i <= rango:\n",
        "        if rango % i == 0 or rango % (i+2) == 0:\n",
        "            return False\n",
        "        i += 6\n",
        "        return True\n",
        "Primer_Valor = int(input(\"Por favor introduzca el primer dato del rango de números: \"))\n",
        "Ultimo_Valor = int(input(\"Poe favor introduzca el último dato del ranfo de números: \"))\n",
        "\n",
        "print(f\"los numeros primos en el rango de datos establecido son:\")\n",
        "for rango in range(Primer_Valor,Ultimo_Valor + 1):\n",
        "    if isprime(rango):\n",
        "        print(rango)"
      ],
      "metadata": {
        "colab": {
          "base_uri": "https://localhost:8080/"
        },
        "id": "7fkqEljti6tP",
        "outputId": "27428f7f-c590-40e5-860f-850ac2a45c02"
      },
      "execution_count": 3,
      "outputs": [
        {
          "output_type": "stream",
          "name": "stdout",
          "text": [
            "Por favor introduzca el primer dato del rango de números: 1\n",
            "Poe favor introduzca el último dato del ranfo de números: 50\n",
            "los numeros primos en el rango de datos establecido son:\n",
            "2\n",
            "3\n",
            "29\n",
            "31\n",
            "37\n",
            "41\n",
            "43\n",
            "47\n"
          ]
        }
      ]
    },
    {
      "cell_type": "code",
      "source": [
        "#Ejercicio 6\n",
        "def suma(a,b):\n",
        "    return a + b\n",
        "def resta(a,b):\n",
        "    return a - b\n",
        "def multiplicacion(a,b):\n",
        "    return a * b\n",
        "def division(a,b):\n",
        "    if b == 0:\n",
        "     return \"Lo siento, no se puede dividir entre 0.\"\n",
        "    else:\n",
        "       return a / b\n",
        "\n",
        "Valor1 = float(input(\"Favor de introducir el primer número: \"))\n",
        "Valor2 = float(input(\"Favor de introducir el segundo número: \"))\n",
        "\n",
        "SUMA = suma(Valor1,Valor2)\n",
        "RESTA = resta(Valor1,Valor2)\n",
        "MULTIPLICACION = multiplicacion(Valor1,Valor2)\n",
        "DIVISION = division(Valor1,Valor2)\n",
        "\n",
        "print(\"Suma: \", SUMA)\n",
        "print(\"Resta: \", RESTA)\n",
        "print(\"Multiplicacion:\", MULTIPLICACION)\n",
        "print(\"División: \", DIVISION)\n"
      ],
      "metadata": {
        "colab": {
          "base_uri": "https://localhost:8080/"
        },
        "id": "BslGixMF7kzp",
        "outputId": "96f8448b-9be9-44ae-b2b3-08227056ef8c"
      },
      "execution_count": 4,
      "outputs": [
        {
          "output_type": "stream",
          "name": "stdout",
          "text": [
            "Favor de introducir el primer número: 20\n",
            "Favor de introducir el segundo número: 5\n",
            "Suma:  25.0\n",
            "Resta:  15.0\n",
            "Multiplicacion: 100.0\n",
            "División:  4.0\n"
          ]
        }
      ]
    }
  ]
}
